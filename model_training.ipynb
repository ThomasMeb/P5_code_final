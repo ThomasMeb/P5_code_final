{
 "cells": [
  {
   "cell_type": "code",
   "execution_count": 1,
   "metadata": {},
   "outputs": [],
   "source": [
    "import pandas as pd\n",
    "pd.options.display.max_columns=200\n",
    "import numpy as np\n",
    "import warnings\n",
    "warnings.filterwarnings('ignore')\n",
    "%matplotlib inline\n",
    "from sklearn.pipeline import make_pipeline\n",
    "import bs4 as bs\n",
    "import nltk\n",
    "from nltk.corpus import stopwords, words\n",
    "from nltk.stem import WordNetLemmatizer, PorterStemmer\n",
    "from nltk.tokenize import word_tokenize, wordpunct_tokenize, RegexpTokenizer\n",
    "from wordcloud import WordCloud"
   ]
  },
  {
   "cell_type": "code",
   "execution_count": 18,
   "metadata": {},
   "outputs": [],
   "source": [
    "data = pd.read_csv('data/QueryResults.csv')"
   ]
  },
  {
   "cell_type": "code",
   "execution_count": 19,
   "metadata": {},
   "outputs": [
    {
     "data": {
      "text/html": [
       "<div>\n",
       "<style scoped>\n",
       "    .dataframe tbody tr th:only-of-type {\n",
       "        vertical-align: middle;\n",
       "    }\n",
       "\n",
       "    .dataframe tbody tr th {\n",
       "        vertical-align: top;\n",
       "    }\n",
       "\n",
       "    .dataframe thead th {\n",
       "        text-align: right;\n",
       "    }\n",
       "</style>\n",
       "<table border=\"1\" class=\"dataframe\">\n",
       "  <thead>\n",
       "    <tr style=\"text-align: right;\">\n",
       "      <th></th>\n",
       "      <th>Title</th>\n",
       "      <th>Body</th>\n",
       "      <th>Tags</th>\n",
       "      <th>Id</th>\n",
       "      <th>Score</th>\n",
       "      <th>ViewCount</th>\n",
       "      <th>FavoriteCount</th>\n",
       "      <th>AnswerCount</th>\n",
       "    </tr>\n",
       "  </thead>\n",
       "  <tbody>\n",
       "    <tr>\n",
       "      <th>0</th>\n",
       "      <td>how do I calculate a rolling idxmax</td>\n",
       "      <td>&lt;p&gt;consider the &lt;code&gt;pd.Series&lt;/code&gt; &lt;code&gt;s...</td>\n",
       "      <td>&lt;python&gt;&lt;pandas&gt;&lt;numpy&gt;&lt;dataframe&gt;&lt;series&gt;</td>\n",
       "      <td>40101130</td>\n",
       "      <td>9</td>\n",
       "      <td>7584</td>\n",
       "      <td>0.0</td>\n",
       "      <td>6</td>\n",
       "    </tr>\n",
       "    <tr>\n",
       "      <th>1</th>\n",
       "      <td>Better techniques for trimming leading zeros i...</td>\n",
       "      <td>&lt;p&gt;I've been using &lt;a href=\"https://stackoverf...</td>\n",
       "      <td>&lt;sql&gt;&lt;sql-server&gt;&lt;sql-server-2005&gt;&lt;tsql&gt;&lt;string&gt;</td>\n",
       "      <td>662383</td>\n",
       "      <td>197</td>\n",
       "      <td>388401</td>\n",
       "      <td>0.0</td>\n",
       "      <td>19</td>\n",
       "    </tr>\n",
       "    <tr>\n",
       "      <th>2</th>\n",
       "      <td>\"No X11 DISPLAY variable\" - what does it mean?</td>\n",
       "      <td>&lt;p&gt;I am trying to install a Java application o...</td>\n",
       "      <td>&lt;java&gt;&lt;linux&gt;&lt;variables&gt;&lt;x11&gt;&lt;headless&gt;</td>\n",
       "      <td>662421</td>\n",
       "      <td>122</td>\n",
       "      <td>622820</td>\n",
       "      <td>0.0</td>\n",
       "      <td>12</td>\n",
       "    </tr>\n",
       "    <tr>\n",
       "      <th>3</th>\n",
       "      <td>Object-Oriented Callbacks for C++?</td>\n",
       "      <td>&lt;p&gt;Is there some library that allows me to eas...</td>\n",
       "      <td>&lt;c++&gt;&lt;oop&gt;&lt;callback&gt;&lt;pointer-to-member&gt;&lt;eiffel&gt;</td>\n",
       "      <td>3520133</td>\n",
       "      <td>9</td>\n",
       "      <td>10228</td>\n",
       "      <td>0.0</td>\n",
       "      <td>6</td>\n",
       "    </tr>\n",
       "    <tr>\n",
       "      <th>4</th>\n",
       "      <td>Why doesn't .NET find the OpenSSL.NET dll?</td>\n",
       "      <td>&lt;p&gt;&lt;strong&gt;EDIT&lt;/strong&gt; (the whole question, ...</td>\n",
       "      <td>&lt;c#&gt;&lt;.net&gt;&lt;dll&gt;&lt;dllimport&gt;&lt;dllnotfoundexception&gt;</td>\n",
       "      <td>1396164</td>\n",
       "      <td>9</td>\n",
       "      <td>18554</td>\n",
       "      <td>0.0</td>\n",
       "      <td>12</td>\n",
       "    </tr>\n",
       "  </tbody>\n",
       "</table>\n",
       "</div>"
      ],
      "text/plain": [
       "                                               Title  \\\n",
       "0                how do I calculate a rolling idxmax   \n",
       "1  Better techniques for trimming leading zeros i...   \n",
       "2     \"No X11 DISPLAY variable\" - what does it mean?   \n",
       "3                 Object-Oriented Callbacks for C++?   \n",
       "4         Why doesn't .NET find the OpenSSL.NET dll?   \n",
       "\n",
       "                                                Body  \\\n",
       "0  <p>consider the <code>pd.Series</code> <code>s...   \n",
       "1  <p>I've been using <a href=\"https://stackoverf...   \n",
       "2  <p>I am trying to install a Java application o...   \n",
       "3  <p>Is there some library that allows me to eas...   \n",
       "4  <p><strong>EDIT</strong> (the whole question, ...   \n",
       "\n",
       "                                               Tags        Id  Score  \\\n",
       "0        <python><pandas><numpy><dataframe><series>  40101130      9   \n",
       "1  <sql><sql-server><sql-server-2005><tsql><string>    662383    197   \n",
       "2           <java><linux><variables><x11><headless>    662421    122   \n",
       "3   <c++><oop><callback><pointer-to-member><eiffel>   3520133      9   \n",
       "4  <c#><.net><dll><dllimport><dllnotfoundexception>   1396164      9   \n",
       "\n",
       "   ViewCount  FavoriteCount  AnswerCount  \n",
       "0       7584            0.0            6  \n",
       "1     388401            0.0           19  \n",
       "2     622820            0.0           12  \n",
       "3      10228            0.0            6  \n",
       "4      18554            0.0           12  "
      ]
     },
     "execution_count": 19,
     "metadata": {},
     "output_type": "execute_result"
    }
   ],
   "source": [
    "data.head()"
   ]
  },
  {
   "cell_type": "code",
   "execution_count": 20,
   "metadata": {},
   "outputs": [],
   "source": [
    "data.set_index('Id', inplace=True)"
   ]
  },
  {
   "cell_type": "code",
   "execution_count": 21,
   "metadata": {},
   "outputs": [],
   "source": [
    "data['Text'] = data['Title'] + ' ' + data['Body']"
   ]
  },
  {
   "cell_type": "code",
   "execution_count": 22,
   "metadata": {},
   "outputs": [],
   "source": [
    "data.drop(['Score','ViewCount','FavoriteCount','AnswerCount','Title','Body'], axis=1, inplace=True)"
   ]
  },
  {
   "cell_type": "code",
   "execution_count": 24,
   "metadata": {},
   "outputs": [],
   "source": [
    "#delete balises html with beautiful soup\n",
    "def clean_html(text):\n",
    "    soup = bs.BeautifulSoup(text, \"html.parser\")\n",
    "    return soup.get_text()\n",
    "\n",
    "data['Text'] = data['Text'].apply(clean_html)"
   ]
  },
  {
   "cell_type": "code",
   "execution_count": 25,
   "metadata": {},
   "outputs": [
    {
     "data": {
      "text/html": [
       "<div>\n",
       "<style scoped>\n",
       "    .dataframe tbody tr th:only-of-type {\n",
       "        vertical-align: middle;\n",
       "    }\n",
       "\n",
       "    .dataframe tbody tr th {\n",
       "        vertical-align: top;\n",
       "    }\n",
       "\n",
       "    .dataframe thead th {\n",
       "        text-align: right;\n",
       "    }\n",
       "</style>\n",
       "<table border=\"1\" class=\"dataframe\">\n",
       "  <thead>\n",
       "    <tr style=\"text-align: right;\">\n",
       "      <th></th>\n",
       "      <th>Tags</th>\n",
       "      <th>Text</th>\n",
       "    </tr>\n",
       "    <tr>\n",
       "      <th>Id</th>\n",
       "      <th></th>\n",
       "      <th></th>\n",
       "    </tr>\n",
       "  </thead>\n",
       "  <tbody>\n",
       "    <tr>\n",
       "      <th>40101130</th>\n",
       "      <td>&lt;python&gt;&lt;pandas&gt;&lt;numpy&gt;&lt;dataframe&gt;&lt;series&gt;</td>\n",
       "      <td>how do I calculate a rolling idxmax consider t...</td>\n",
       "    </tr>\n",
       "    <tr>\n",
       "      <th>662383</th>\n",
       "      <td>&lt;sql&gt;&lt;sql-server&gt;&lt;sql-server-2005&gt;&lt;tsql&gt;&lt;string&gt;</td>\n",
       "      <td>Better techniques for trimming leading zeros i...</td>\n",
       "    </tr>\n",
       "    <tr>\n",
       "      <th>662421</th>\n",
       "      <td>&lt;java&gt;&lt;linux&gt;&lt;variables&gt;&lt;x11&gt;&lt;headless&gt;</td>\n",
       "      <td>\"No X11 DISPLAY variable\" - what does it mean?...</td>\n",
       "    </tr>\n",
       "    <tr>\n",
       "      <th>3520133</th>\n",
       "      <td>&lt;c++&gt;&lt;oop&gt;&lt;callback&gt;&lt;pointer-to-member&gt;&lt;eiffel&gt;</td>\n",
       "      <td>Object-Oriented Callbacks for C++? Is there so...</td>\n",
       "    </tr>\n",
       "    <tr>\n",
       "      <th>1396164</th>\n",
       "      <td>&lt;c#&gt;&lt;.net&gt;&lt;dll&gt;&lt;dllimport&gt;&lt;dllnotfoundexception&gt;</td>\n",
       "      <td>Why doesn't .NET find the OpenSSL.NET dll? EDI...</td>\n",
       "    </tr>\n",
       "  </tbody>\n",
       "</table>\n",
       "</div>"
      ],
      "text/plain": [
       "                                                      Tags  \\\n",
       "Id                                                           \n",
       "40101130        <python><pandas><numpy><dataframe><series>   \n",
       "662383    <sql><sql-server><sql-server-2005><tsql><string>   \n",
       "662421             <java><linux><variables><x11><headless>   \n",
       "3520133    <c++><oop><callback><pointer-to-member><eiffel>   \n",
       "1396164   <c#><.net><dll><dllimport><dllnotfoundexception>   \n",
       "\n",
       "                                                       Text  \n",
       "Id                                                           \n",
       "40101130  how do I calculate a rolling idxmax consider t...  \n",
       "662383    Better techniques for trimming leading zeros i...  \n",
       "662421    \"No X11 DISPLAY variable\" - what does it mean?...  \n",
       "3520133   Object-Oriented Callbacks for C++? Is there so...  \n",
       "1396164   Why doesn't .NET find the OpenSSL.NET dll? EDI...  "
      ]
     },
     "execution_count": 25,
     "metadata": {},
     "output_type": "execute_result"
    }
   ],
   "source": [
    "data.head()"
   ]
  },
  {
   "cell_type": "code",
   "execution_count": 26,
   "metadata": {},
   "outputs": [],
   "source": [
    "def tokenizer_fct(sentence) :\n",
    "    # print(sentence)\n",
    "    sentence_clean = sentence.replace('-', ' ').replace('+', ' ').replace('/', ' ').replace('#', ' ')\n",
    "    word_tokens = word_tokenize(sentence_clean)\n",
    "    return word_tokens\n",
    "\n",
    "# Stop words\n",
    "stop_w = list(set(stopwords.words('english'))) + ['[', ']', ',', '.', ':', '?', '(', ')', \"'\", '\"', '!', ';', '``', \"''\", '...', '’', '“', '”']\n",
    "\n",
    "def stop_word_filter_fct(list_words) :\n",
    "    filtered_w = [w for w in list_words if not w in stop_w]\n",
    "    filtered_w2 = [w for w in filtered_w if len(w) > 2]\n",
    "    return filtered_w2\n",
    "\n",
    "# lower case et alpha\n",
    "def lower_start_fct(list_words) :\n",
    "    lw = [w.lower() for w in list_words if (not w.startswith(\"@\")) \n",
    "                                       and (not w.startswith(\"#\"))\n",
    "                                       and (not w.startswith(\"http\"))]\n",
    "    return lw\n",
    "\n",
    "# Lemmatizer (base d'un mot)\n",
    "def lemma_fct(list_words) :\n",
    "    lemmatizer = WordNetLemmatizer()\n",
    "    lem_w = [lemmatizer.lemmatize(w) for w in list_words]\n",
    "    return lem_w\n",
    "\n",
    "# Fonction de préparation du texte pour le bag of words avec lemmatization\n",
    "def transform_bow_lem_fct(desc_text) :\n",
    "    word_tokens = tokenizer_fct(desc_text)\n",
    "    sw = stop_word_filter_fct(word_tokens)\n",
    "    lw = lower_start_fct(sw)\n",
    "    lem_w = lemma_fct(lw)    \n",
    "    transf_desc_text = ' '.join(lem_w)\n",
    "    return transf_desc_text"
   ]
  },
  {
   "cell_type": "code",
   "execution_count": 27,
   "metadata": {},
   "outputs": [],
   "source": [
    "data['Text'] = data['Text'].apply(transform_bow_lem_fct)"
   ]
  },
  {
   "cell_type": "code",
   "execution_count": 28,
   "metadata": {},
   "outputs": [
    {
     "data": {
      "text/html": [
       "<div>\n",
       "<style scoped>\n",
       "    .dataframe tbody tr th:only-of-type {\n",
       "        vertical-align: middle;\n",
       "    }\n",
       "\n",
       "    .dataframe tbody tr th {\n",
       "        vertical-align: top;\n",
       "    }\n",
       "\n",
       "    .dataframe thead th {\n",
       "        text-align: right;\n",
       "    }\n",
       "</style>\n",
       "<table border=\"1\" class=\"dataframe\">\n",
       "  <thead>\n",
       "    <tr style=\"text-align: right;\">\n",
       "      <th></th>\n",
       "      <th>Tags</th>\n",
       "      <th>Text</th>\n",
       "    </tr>\n",
       "    <tr>\n",
       "      <th>Id</th>\n",
       "      <th></th>\n",
       "      <th></th>\n",
       "    </tr>\n",
       "  </thead>\n",
       "  <tbody>\n",
       "    <tr>\n",
       "      <th>40101130</th>\n",
       "      <td>&lt;python&gt;&lt;pandas&gt;&lt;numpy&gt;&lt;dataframe&gt;&lt;series&gt;</td>\n",
       "      <td>calculate rolling idxmax consider pd.series im...</td>\n",
       "    </tr>\n",
       "    <tr>\n",
       "      <th>662383</th>\n",
       "      <td>&lt;sql&gt;&lt;sql-server&gt;&lt;sql-server-2005&gt;&lt;tsql&gt;&lt;string&gt;</td>\n",
       "      <td>better technique trimming leading zero sql ser...</td>\n",
       "    </tr>\n",
       "    <tr>\n",
       "      <th>662421</th>\n",
       "      <td>&lt;java&gt;&lt;linux&gt;&lt;variables&gt;&lt;x11&gt;&lt;headless&gt;</td>\n",
       "      <td>x11 display variable mean trying install java ...</td>\n",
       "    </tr>\n",
       "    <tr>\n",
       "      <th>3520133</th>\n",
       "      <td>&lt;c++&gt;&lt;oop&gt;&lt;callback&gt;&lt;pointer-to-member&gt;&lt;eiffel&gt;</td>\n",
       "      <td>object oriented callback library allows easily...</td>\n",
       "    </tr>\n",
       "    <tr>\n",
       "      <th>1396164</th>\n",
       "      <td>&lt;c#&gt;&lt;.net&gt;&lt;dll&gt;&lt;dllimport&gt;&lt;dllnotfoundexception&gt;</td>\n",
       "      <td>why n't .net find openssl.net dll edit whole q...</td>\n",
       "    </tr>\n",
       "  </tbody>\n",
       "</table>\n",
       "</div>"
      ],
      "text/plain": [
       "                                                      Tags  \\\n",
       "Id                                                           \n",
       "40101130        <python><pandas><numpy><dataframe><series>   \n",
       "662383    <sql><sql-server><sql-server-2005><tsql><string>   \n",
       "662421             <java><linux><variables><x11><headless>   \n",
       "3520133    <c++><oop><callback><pointer-to-member><eiffel>   \n",
       "1396164   <c#><.net><dll><dllimport><dllnotfoundexception>   \n",
       "\n",
       "                                                       Text  \n",
       "Id                                                           \n",
       "40101130  calculate rolling idxmax consider pd.series im...  \n",
       "662383    better technique trimming leading zero sql ser...  \n",
       "662421    x11 display variable mean trying install java ...  \n",
       "3520133   object oriented callback library allows easily...  \n",
       "1396164   why n't .net find openssl.net dll edit whole q...  "
      ]
     },
     "execution_count": 28,
     "metadata": {},
     "output_type": "execute_result"
    }
   ],
   "source": [
    "data.head()"
   ]
  },
  {
   "cell_type": "code",
   "execution_count": 29,
   "metadata": {},
   "outputs": [
    {
     "data": {
      "text/html": [
       "<div>\n",
       "<style scoped>\n",
       "    .dataframe tbody tr th:only-of-type {\n",
       "        vertical-align: middle;\n",
       "    }\n",
       "\n",
       "    .dataframe tbody tr th {\n",
       "        vertical-align: top;\n",
       "    }\n",
       "\n",
       "    .dataframe thead th {\n",
       "        text-align: right;\n",
       "    }\n",
       "</style>\n",
       "<table border=\"1\" class=\"dataframe\">\n",
       "  <thead>\n",
       "    <tr style=\"text-align: right;\">\n",
       "      <th></th>\n",
       "      <th>Tags</th>\n",
       "      <th>Text</th>\n",
       "    </tr>\n",
       "    <tr>\n",
       "      <th>Id</th>\n",
       "      <th></th>\n",
       "      <th></th>\n",
       "    </tr>\n",
       "  </thead>\n",
       "  <tbody>\n",
       "    <tr>\n",
       "      <th>40101130</th>\n",
       "      <td>[python, pandas, numpy, dataframe, series]</td>\n",
       "      <td>calculate rolling idxmax consider pd.series im...</td>\n",
       "    </tr>\n",
       "    <tr>\n",
       "      <th>662383</th>\n",
       "      <td>[sql, sql-server, sql-server-2005, tsql, string]</td>\n",
       "      <td>better technique trimming leading zero sql ser...</td>\n",
       "    </tr>\n",
       "    <tr>\n",
       "      <th>662421</th>\n",
       "      <td>[java, linux, variables, x11, headless]</td>\n",
       "      <td>x11 display variable mean trying install java ...</td>\n",
       "    </tr>\n",
       "    <tr>\n",
       "      <th>3520133</th>\n",
       "      <td>[c++, oop, callback, pointer-to-member, eiffel]</td>\n",
       "      <td>object oriented callback library allows easily...</td>\n",
       "    </tr>\n",
       "    <tr>\n",
       "      <th>1396164</th>\n",
       "      <td>[c#, .net, dll, dllimport, dllnotfoundexception]</td>\n",
       "      <td>why n't .net find openssl.net dll edit whole q...</td>\n",
       "    </tr>\n",
       "  </tbody>\n",
       "</table>\n",
       "</div>"
      ],
      "text/plain": [
       "                                                      Tags  \\\n",
       "Id                                                           \n",
       "40101130        [python, pandas, numpy, dataframe, series]   \n",
       "662383    [sql, sql-server, sql-server-2005, tsql, string]   \n",
       "662421             [java, linux, variables, x11, headless]   \n",
       "3520133    [c++, oop, callback, pointer-to-member, eiffel]   \n",
       "1396164   [c#, .net, dll, dllimport, dllnotfoundexception]   \n",
       "\n",
       "                                                       Text  \n",
       "Id                                                           \n",
       "40101130  calculate rolling idxmax consider pd.series im...  \n",
       "662383    better technique trimming leading zero sql ser...  \n",
       "662421    x11 display variable mean trying install java ...  \n",
       "3520133   object oriented callback library allows easily...  \n",
       "1396164   why n't .net find openssl.net dll edit whole q...  "
      ]
     },
     "execution_count": 29,
     "metadata": {},
     "output_type": "execute_result"
    }
   ],
   "source": [
    "import re\n",
    "\n",
    "# Suppression des chevrons et extraction des tags\n",
    "data['Tags'] = data['Tags'].apply(lambda x: re.findall(r'<([^>]+)>', x))\n",
    "\n",
    "data.head()"
   ]
  },
  {
   "cell_type": "code",
   "execution_count": 31,
   "metadata": {},
   "outputs": [
    {
     "data": {
      "text/plain": [
       "Id\n",
       "40101130           [python, pandas, numpy, dataframe, series]\n",
       "662383       [sql, sql-server, sql-server-2005, tsql, string]\n",
       "662421                [java, linux, variables, x11, headless]\n",
       "3520133       [c++, oop, callback, pointer-to-member, eiffel]\n",
       "1396164      [c#, .net, dll, dllimport, dllnotfoundexception]\n",
       "                                  ...                        \n",
       "3915827               [c#, .net, clr, function-pointers, cil]\n",
       "71419635               [ios, swift, webrtc, ios15, videocall]\n",
       "22050813    [android, android-intent, warnings, logcat, an...\n",
       "53180817    [graphql, apollo, react-apollo, apollo-client,...\n",
       "53180854    [node.js, websocket, socket.io, apollo-server,...\n",
       "Name: Tags, Length: 50000, dtype: object"
      ]
     },
     "execution_count": 31,
     "metadata": {},
     "output_type": "execute_result"
    }
   ],
   "source": [
    "data['Tags']"
   ]
  },
  {
   "cell_type": "code",
   "execution_count": 33,
   "metadata": {},
   "outputs": [
    {
     "name": "stdout",
     "output_type": "stream",
     "text": [
      "Nombre de tags différents : 18315\n"
     ]
    }
   ],
   "source": [
    "from collections import Counter\n",
    "\n",
    "# Compter les tags\n",
    "tags_counter = Counter()\n",
    "for tags in data['Tags']:\n",
    "    tags_counter.update(tags)\n",
    "\n",
    "# Nombre de tags différents\n",
    "print(\"Nombre de tags différents :\", len(tags_counter))\n",
    "\n",
    "# Obtenir les 100 tags les plus fréquents\n",
    "top_100_tags = tags_counter.most_common(100)"
   ]
  },
  {
   "cell_type": "code",
   "execution_count": 35,
   "metadata": {},
   "outputs": [
    {
     "name": "stdout",
     "output_type": "stream",
     "text": [
      "Nombre de questions restantes : 46749\n"
     ]
    }
   ],
   "source": [
    "top_100_tags_set = set(tag for tag, _ in top_100_tags)\n",
    "\n",
    "# Fonction pour ne garder que les tags du top 100\n",
    "def keep_top_100_tags(tags):\n",
    "    return [tag for tag in tags if tag in top_100_tags_set]\n",
    "\n",
    "# Appliquer la fonction \n",
    "data['Tags'] = data['Tags'].apply(keep_top_100_tags)\n",
    "\n",
    "# Filtrer les données pour ne garder que les questions ayant au moins un tag dans le top 100\n",
    "data = data[data['Tags'].apply(lambda x: len(x) > 0)].reset_index(drop=True)\n",
    "\n",
    "# Afficher le nombre de questions restantes\n",
    "print(\"Nombre de questions restantes :\", len(data))"
   ]
  },
  {
   "cell_type": "code",
   "execution_count": 36,
   "metadata": {},
   "outputs": [],
   "source": [
    "from sklearn.preprocessing import MultiLabelBinarizer\n",
    "\n",
    "mlb = MultiLabelBinarizer()\n",
    "tags = mlb.fit_transform(data['Tags'])"
   ]
  },
  {
   "cell_type": "code",
   "execution_count": null,
   "metadata": {},
   "outputs": [],
   "source": []
  },
  {
   "cell_type": "code",
   "execution_count": 44,
   "metadata": {},
   "outputs": [],
   "source": [
    "from sklearn.feature_extraction.text import TfidfVectorizer\n",
    "\n",
    "# Appliquer les meilleurs paramètres pour TfidfVectorizer\n",
    "tfidf = TfidfVectorizer(max_df=1.0, min_df=1, stop_words='english')\n",
    "\n",
    "#Transformer le texte en vecteurs\n",
    "text = tfidf.fit_transform(data['Text'])"
   ]
  },
  {
   "cell_type": "code",
   "execution_count": 46,
   "metadata": {},
   "outputs": [
    {
     "data": {
      "text/plain": [
       "(46749, 269477)"
      ]
     },
     "execution_count": 46,
     "metadata": {},
     "output_type": "execute_result"
    }
   ],
   "source": [
    "text.shape"
   ]
  },
  {
   "cell_type": "code",
   "execution_count": 47,
   "metadata": {},
   "outputs": [
    {
     "data": {
      "text/html": [
       "<style>#sk-container-id-1 {color: black;background-color: white;}#sk-container-id-1 pre{padding: 0;}#sk-container-id-1 div.sk-toggleable {background-color: white;}#sk-container-id-1 label.sk-toggleable__label {cursor: pointer;display: block;width: 100%;margin-bottom: 0;padding: 0.3em;box-sizing: border-box;text-align: center;}#sk-container-id-1 label.sk-toggleable__label-arrow:before {content: \"▸\";float: left;margin-right: 0.25em;color: #696969;}#sk-container-id-1 label.sk-toggleable__label-arrow:hover:before {color: black;}#sk-container-id-1 div.sk-estimator:hover label.sk-toggleable__label-arrow:before {color: black;}#sk-container-id-1 div.sk-toggleable__content {max-height: 0;max-width: 0;overflow: hidden;text-align: left;background-color: #f0f8ff;}#sk-container-id-1 div.sk-toggleable__content pre {margin: 0.2em;color: black;border-radius: 0.25em;background-color: #f0f8ff;}#sk-container-id-1 input.sk-toggleable__control:checked~div.sk-toggleable__content {max-height: 200px;max-width: 100%;overflow: auto;}#sk-container-id-1 input.sk-toggleable__control:checked~label.sk-toggleable__label-arrow:before {content: \"▾\";}#sk-container-id-1 div.sk-estimator input.sk-toggleable__control:checked~label.sk-toggleable__label {background-color: #d4ebff;}#sk-container-id-1 div.sk-label input.sk-toggleable__control:checked~label.sk-toggleable__label {background-color: #d4ebff;}#sk-container-id-1 input.sk-hidden--visually {border: 0;clip: rect(1px 1px 1px 1px);clip: rect(1px, 1px, 1px, 1px);height: 1px;margin: -1px;overflow: hidden;padding: 0;position: absolute;width: 1px;}#sk-container-id-1 div.sk-estimator {font-family: monospace;background-color: #f0f8ff;border: 1px dotted black;border-radius: 0.25em;box-sizing: border-box;margin-bottom: 0.5em;}#sk-container-id-1 div.sk-estimator:hover {background-color: #d4ebff;}#sk-container-id-1 div.sk-parallel-item::after {content: \"\";width: 100%;border-bottom: 1px solid gray;flex-grow: 1;}#sk-container-id-1 div.sk-label:hover label.sk-toggleable__label {background-color: #d4ebff;}#sk-container-id-1 div.sk-serial::before {content: \"\";position: absolute;border-left: 1px solid gray;box-sizing: border-box;top: 0;bottom: 0;left: 50%;z-index: 0;}#sk-container-id-1 div.sk-serial {display: flex;flex-direction: column;align-items: center;background-color: white;padding-right: 0.2em;padding-left: 0.2em;position: relative;}#sk-container-id-1 div.sk-item {position: relative;z-index: 1;}#sk-container-id-1 div.sk-parallel {display: flex;align-items: stretch;justify-content: center;background-color: white;position: relative;}#sk-container-id-1 div.sk-item::before, #sk-container-id-1 div.sk-parallel-item::before {content: \"\";position: absolute;border-left: 1px solid gray;box-sizing: border-box;top: 0;bottom: 0;left: 50%;z-index: -1;}#sk-container-id-1 div.sk-parallel-item {display: flex;flex-direction: column;z-index: 1;position: relative;background-color: white;}#sk-container-id-1 div.sk-parallel-item:first-child::after {align-self: flex-end;width: 50%;}#sk-container-id-1 div.sk-parallel-item:last-child::after {align-self: flex-start;width: 50%;}#sk-container-id-1 div.sk-parallel-item:only-child::after {width: 0;}#sk-container-id-1 div.sk-dashed-wrapped {border: 1px dashed gray;margin: 0 0.4em 0.5em 0.4em;box-sizing: border-box;padding-bottom: 0.4em;background-color: white;}#sk-container-id-1 div.sk-label label {font-family: monospace;font-weight: bold;display: inline-block;line-height: 1.2em;}#sk-container-id-1 div.sk-label-container {text-align: center;}#sk-container-id-1 div.sk-container {/* jupyter's `normalize.less` sets `[hidden] { display: none; }` but bootstrap.min.css set `[hidden] { display: none !important; }` so we also need the `!important` here to be able to override the default hidden behavior on the sphinx rendered scikit-learn.org. See: https://github.com/scikit-learn/scikit-learn/issues/21755 */display: inline-block !important;position: relative;}#sk-container-id-1 div.sk-text-repr-fallback {display: none;}</style><div id=\"sk-container-id-1\" class=\"sk-top-container\"><div class=\"sk-text-repr-fallback\"><pre>OneVsRestClassifier(estimator=LogisticRegression(C=10, penalty=&#x27;l1&#x27;,\n",
       "                                                 solver=&#x27;liblinear&#x27;))</pre><b>In a Jupyter environment, please rerun this cell to show the HTML representation or trust the notebook. <br />On GitHub, the HTML representation is unable to render, please try loading this page with nbviewer.org.</b></div><div class=\"sk-container\" hidden><div class=\"sk-item sk-dashed-wrapped\"><div class=\"sk-label-container\"><div class=\"sk-label sk-toggleable\"><input class=\"sk-toggleable__control sk-hidden--visually\" id=\"sk-estimator-id-1\" type=\"checkbox\" ><label for=\"sk-estimator-id-1\" class=\"sk-toggleable__label sk-toggleable__label-arrow\">OneVsRestClassifier</label><div class=\"sk-toggleable__content\"><pre>OneVsRestClassifier(estimator=LogisticRegression(C=10, penalty=&#x27;l1&#x27;,\n",
       "                                                 solver=&#x27;liblinear&#x27;))</pre></div></div></div><div class=\"sk-parallel\"><div class=\"sk-parallel-item\"><div class=\"sk-item\"><div class=\"sk-label-container\"><div class=\"sk-label sk-toggleable\"><input class=\"sk-toggleable__control sk-hidden--visually\" id=\"sk-estimator-id-2\" type=\"checkbox\" ><label for=\"sk-estimator-id-2\" class=\"sk-toggleable__label sk-toggleable__label-arrow\">estimator: LogisticRegression</label><div class=\"sk-toggleable__content\"><pre>LogisticRegression(C=10, penalty=&#x27;l1&#x27;, solver=&#x27;liblinear&#x27;)</pre></div></div></div><div class=\"sk-serial\"><div class=\"sk-item\"><div class=\"sk-estimator sk-toggleable\"><input class=\"sk-toggleable__control sk-hidden--visually\" id=\"sk-estimator-id-3\" type=\"checkbox\" ><label for=\"sk-estimator-id-3\" class=\"sk-toggleable__label sk-toggleable__label-arrow\">LogisticRegression</label><div class=\"sk-toggleable__content\"><pre>LogisticRegression(C=10, penalty=&#x27;l1&#x27;, solver=&#x27;liblinear&#x27;)</pre></div></div></div></div></div></div></div></div></div></div>"
      ],
      "text/plain": [
       "OneVsRestClassifier(estimator=LogisticRegression(C=10, penalty='l1',\n",
       "                                                 solver='liblinear'))"
      ]
     },
     "execution_count": 47,
     "metadata": {},
     "output_type": "execute_result"
    }
   ],
   "source": [
    "from sklearn.multiclass import OneVsRestClassifier\n",
    "from sklearn.linear_model import LogisticRegression\n",
    "\n",
    "# Appliquer la régression logistique avec OneVsRestClassifier\n",
    "clf = OneVsRestClassifier(LogisticRegression(C=10, penalty='l1', solver='liblinear'))\n",
    "clf.fit(text, tags)"
   ]
  },
  {
   "cell_type": "code",
   "execution_count": 50,
   "metadata": {},
   "outputs": [],
   "source": [
    "#Sauvegarder le modèle\n",
    "import pickle\n",
    "\n",
    "pickle.dump(clf, open('model/model.pkl','wb'))"
   ]
  },
  {
   "cell_type": "code",
   "execution_count": null,
   "metadata": {},
   "outputs": [],
   "source": []
  }
 ],
 "metadata": {
  "kernelspec": {
   "display_name": "Python 3",
   "language": "python",
   "name": "python3"
  },
  "language_info": {
   "codemirror_mode": {
    "name": "ipython",
    "version": 3
   },
   "file_extension": ".py",
   "mimetype": "text/x-python",
   "name": "python",
   "nbconvert_exporter": "python",
   "pygments_lexer": "ipython3",
   "version": "3.10.7"
  },
  "orig_nbformat": 4
 },
 "nbformat": 4,
 "nbformat_minor": 2
}
